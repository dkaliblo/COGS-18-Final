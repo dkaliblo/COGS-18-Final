{
 "cells": [
  {
   "cell_type": "markdown",
   "metadata": {},
   "source": [
    "Project Description: My project is a game based on interacting with characters and building friendship with them. I gave the characters characteristics (humor, relaxation, outgoingness, and grumpiness) and then set out to make gameplay options (dialogue) that takes advantage of those. You get your own values for these characteristics through a quiz at the start of the game, and your friendship will grow faster with characters who have the same strongest characteristic as you. The gameplay is simply inputting text after being given text prompts. There are a couple routes to take, and they all lead back to a hub menu at some point until you choose to quit. I hope you have fun trying it out!\n"
   ]
  },
  {
   "cell_type": "code",
   "execution_count": null,
   "metadata": {},
   "outputs": [],
   "source": [
    "from My_Module.functions_and_classes import *\n",
    "\n",
    "game_loop()"
   ]
  }
 ],
 "metadata": {
  "kernelspec": {
   "display_name": "Python 3",
   "language": "python",
   "name": "python3"
  },
  "language_info": {
   "codemirror_mode": {
    "name": "ipython",
    "version": 3
   },
   "file_extension": ".py",
   "mimetype": "text/x-python",
   "name": "python",
   "nbconvert_exporter": "python",
   "pygments_lexer": "ipython3",
   "version": "3.6.7"
  }
 },
 "nbformat": 4,
 "nbformat_minor": 2
}
